{
  "nbformat": 4,
  "nbformat_minor": 0,
  "metadata": {
    "colab": {
      "name": "simple_chatbot_project.ipynb",
      "provenance": [],
      "machine_shape": "hm"
    },
    "kernelspec": {
      "name": "python3",
      "display_name": "Python 3"
    }
  },
  "cells": [
    {
      "cell_type": "markdown",
      "metadata": {
        "id": "Y_B4wLQo4oX_"
      },
      "source": [
        "### Installing and Importing Necessary Packages"
      ]
    },
    {
      "cell_type": "code",
      "metadata": {
        "colab": {
          "base_uri": "https://localhost:8080/"
        },
        "id": "OWeoHzYN4ZXZ",
        "outputId": "325ba195-5d6b-42cc-f83d-15487dc76950"
      },
      "source": [
        "!pip install chatterbot"
      ],
      "execution_count": 1,
      "outputs": [
        {
          "output_type": "stream",
          "text": [
            "Collecting chatterbot\n",
            "\u001b[?25l  Downloading https://files.pythonhosted.org/packages/7c/21/85c2b114bd9dfabdd46ba58fc4519acdaed45d8c70898d40079e37a45e67/ChatterBot-1.0.8-py2.py3-none-any.whl (63kB)\n",
            "\r\u001b[K     |█████▏                          | 10kB 16.2MB/s eta 0:00:01\r\u001b[K     |██████████▎                     | 20kB 21.5MB/s eta 0:00:01\r\u001b[K     |███████████████▌                | 30kB 8.8MB/s eta 0:00:01\r\u001b[K     |████████████████████▋           | 40kB 3.0MB/s eta 0:00:01\r\u001b[K     |█████████████████████████▊      | 51kB 3.6MB/s eta 0:00:01\r\u001b[K     |███████████████████████████████ | 61kB 4.2MB/s eta 0:00:01\r\u001b[K     |████████████████████████████████| 71kB 3.3MB/s \n",
            "\u001b[?25hRequirement already satisfied: python-dateutil<2.9,>=2.8 in /usr/local/lib/python3.6/dist-packages (from chatterbot) (2.8.1)\n",
            "Requirement already satisfied: pytz in /usr/local/lib/python3.6/dist-packages (from chatterbot) (2018.9)\n",
            "Collecting mathparse<0.2,>=0.1\n",
            "  Downloading https://files.pythonhosted.org/packages/c3/e5/4910fb85950cb960fcf3f5aabe1c8e55f5c9201788a1c1302b570a7e1f84/mathparse-0.1.2-py3-none-any.whl\n",
            "Requirement already satisfied: sqlalchemy<1.4,>=1.3 in /usr/local/lib/python3.6/dist-packages (from chatterbot) (1.3.23)\n",
            "Requirement already satisfied: six>=1.5 in /usr/local/lib/python3.6/dist-packages (from python-dateutil<2.9,>=2.8->chatterbot) (1.15.0)\n",
            "Installing collected packages: mathparse, chatterbot\n",
            "Successfully installed chatterbot-1.0.8 mathparse-0.1.2\n"
          ],
          "name": "stdout"
        }
      ]
    },
    {
      "cell_type": "code",
      "metadata": {
        "colab": {
          "base_uri": "https://localhost:8080/"
        },
        "id": "CbKEcr9o3xg7",
        "outputId": "eb305ab4-5603-45e0-a387-5d047ebfce53"
      },
      "source": [
        "import pandas as pd\n",
        "import numpy as np\n",
        "import matplotlib.pyplot as plt\n",
        "from sqlalchemy import create_engine\n",
        "import nltk\n",
        "import spacy\n",
        "import re\n",
        "from chatterbot import ChatBot\n",
        "from chatterbot.trainers import ListTrainer, ChatterBotCorpusTrainer\n",
        "from chatterbot.conversation import Statement\n",
        "import random\n",
        "\n",
        "import warnings\n",
        "warnings.filterwarnings(action='ignore')\n",
        "\n",
        "!python -m spacy download en"
      ],
      "execution_count": 2,
      "outputs": [
        {
          "output_type": "stream",
          "text": [
            "Requirement already satisfied: en_core_web_sm==2.2.5 from https://github.com/explosion/spacy-models/releases/download/en_core_web_sm-2.2.5/en_core_web_sm-2.2.5.tar.gz#egg=en_core_web_sm==2.2.5 in /usr/local/lib/python3.6/dist-packages (2.2.5)\n",
            "Requirement already satisfied: spacy>=2.2.2 in /usr/local/lib/python3.6/dist-packages (from en_core_web_sm==2.2.5) (2.2.4)\n",
            "Requirement already satisfied: numpy>=1.15.0 in /usr/local/lib/python3.6/dist-packages (from spacy>=2.2.2->en_core_web_sm==2.2.5) (1.19.5)\n",
            "Requirement already satisfied: tqdm<5.0.0,>=4.38.0 in /usr/local/lib/python3.6/dist-packages (from spacy>=2.2.2->en_core_web_sm==2.2.5) (4.41.1)\n",
            "Requirement already satisfied: blis<0.5.0,>=0.4.0 in /usr/local/lib/python3.6/dist-packages (from spacy>=2.2.2->en_core_web_sm==2.2.5) (0.4.1)\n",
            "Requirement already satisfied: cymem<2.1.0,>=2.0.2 in /usr/local/lib/python3.6/dist-packages (from spacy>=2.2.2->en_core_web_sm==2.2.5) (2.0.5)\n",
            "Requirement already satisfied: plac<1.2.0,>=0.9.6 in /usr/local/lib/python3.6/dist-packages (from spacy>=2.2.2->en_core_web_sm==2.2.5) (1.1.3)\n",
            "Requirement already satisfied: requests<3.0.0,>=2.13.0 in /usr/local/lib/python3.6/dist-packages (from spacy>=2.2.2->en_core_web_sm==2.2.5) (2.23.0)\n",
            "Requirement already satisfied: catalogue<1.1.0,>=0.0.7 in /usr/local/lib/python3.6/dist-packages (from spacy>=2.2.2->en_core_web_sm==2.2.5) (1.0.0)\n",
            "Requirement already satisfied: srsly<1.1.0,>=1.0.2 in /usr/local/lib/python3.6/dist-packages (from spacy>=2.2.2->en_core_web_sm==2.2.5) (1.0.5)\n",
            "Requirement already satisfied: murmurhash<1.1.0,>=0.28.0 in /usr/local/lib/python3.6/dist-packages (from spacy>=2.2.2->en_core_web_sm==2.2.5) (1.0.5)\n",
            "Requirement already satisfied: thinc==7.4.0 in /usr/local/lib/python3.6/dist-packages (from spacy>=2.2.2->en_core_web_sm==2.2.5) (7.4.0)\n",
            "Requirement already satisfied: preshed<3.1.0,>=3.0.2 in /usr/local/lib/python3.6/dist-packages (from spacy>=2.2.2->en_core_web_sm==2.2.5) (3.0.5)\n",
            "Requirement already satisfied: setuptools in /usr/local/lib/python3.6/dist-packages (from spacy>=2.2.2->en_core_web_sm==2.2.5) (53.0.0)\n",
            "Requirement already satisfied: wasabi<1.1.0,>=0.4.0 in /usr/local/lib/python3.6/dist-packages (from spacy>=2.2.2->en_core_web_sm==2.2.5) (0.8.2)\n",
            "Requirement already satisfied: certifi>=2017.4.17 in /usr/local/lib/python3.6/dist-packages (from requests<3.0.0,>=2.13.0->spacy>=2.2.2->en_core_web_sm==2.2.5) (2020.12.5)\n",
            "Requirement already satisfied: idna<3,>=2.5 in /usr/local/lib/python3.6/dist-packages (from requests<3.0.0,>=2.13.0->spacy>=2.2.2->en_core_web_sm==2.2.5) (2.10)\n",
            "Requirement already satisfied: chardet<4,>=3.0.2 in /usr/local/lib/python3.6/dist-packages (from requests<3.0.0,>=2.13.0->spacy>=2.2.2->en_core_web_sm==2.2.5) (3.0.4)\n",
            "Requirement already satisfied: urllib3!=1.25.0,!=1.25.1,<1.26,>=1.21.1 in /usr/local/lib/python3.6/dist-packages (from requests<3.0.0,>=2.13.0->spacy>=2.2.2->en_core_web_sm==2.2.5) (1.24.3)\n",
            "Requirement already satisfied: importlib-metadata>=0.20; python_version < \"3.8\" in /usr/local/lib/python3.6/dist-packages (from catalogue<1.1.0,>=0.0.7->spacy>=2.2.2->en_core_web_sm==2.2.5) (3.4.0)\n",
            "Requirement already satisfied: zipp>=0.5 in /usr/local/lib/python3.6/dist-packages (from importlib-metadata>=0.20; python_version < \"3.8\"->catalogue<1.1.0,>=0.0.7->spacy>=2.2.2->en_core_web_sm==2.2.5) (3.4.0)\n",
            "Requirement already satisfied: typing-extensions>=3.6.4; python_version < \"3.8\" in /usr/local/lib/python3.6/dist-packages (from importlib-metadata>=0.20; python_version < \"3.8\"->catalogue<1.1.0,>=0.0.7->spacy>=2.2.2->en_core_web_sm==2.2.5) (3.7.4.3)\n",
            "\u001b[38;5;2m✔ Download and installation successful\u001b[0m\n",
            "You can now load the model via spacy.load('en_core_web_sm')\n",
            "\u001b[38;5;2m✔ Linking successful\u001b[0m\n",
            "/usr/local/lib/python3.6/dist-packages/en_core_web_sm -->\n",
            "/usr/local/lib/python3.6/dist-packages/spacy/data/en\n",
            "You can now load the model via spacy.load('en')\n"
          ],
          "name": "stdout"
        }
      ]
    },
    {
      "cell_type": "markdown",
      "metadata": {
        "id": "K9gFuSV64sak"
      },
      "source": [
        "# Chatbot Assignment\n",
        "\n",
        "In this assignment, you'll work with a dataset called Cornell Movie--Dialogs Corpus, which was released by the Cornell University. The dataset contains conversations from more than 600 movies.\n",
        "\n"
      ]
    },
    {
      "cell_type": "code",
      "metadata": {
        "id": "Vby8xgOp4RXX"
      },
      "source": [
        "postgres_user = 'dsbc_student'\n",
        "postgres_pw = '7*.8G9QH21'\n",
        "postgres_host = '142.93.121.174'\n",
        "postgres_port = '5432'\n",
        "postgres_db = 'cornell_movie_dialogs'\n",
        "\n",
        "engine = create_engine('postgresql://{}:{}@{}:{}/{}'.format(\n",
        "    postgres_user, postgres_pw, postgres_host, postgres_port, postgres_db))\n",
        "\n",
        "dialogs_df = pd.read_sql_query('select * from dialogs',con=engine)\n",
        "\n",
        "# no need for an open connection, as we're only doing a single query\n",
        "engine.dispose()"
      ],
      "execution_count": 3,
      "outputs": []
    },
    {
      "cell_type": "code",
      "metadata": {
        "id": "p4E8RhXHYhvj",
        "outputId": "eaca38f9-0691-48af-9acd-164a2e58c759",
        "colab": {
          "base_uri": "https://localhost:8080/",
          "height": 419
        }
      },
      "source": [
        "dialogs_df"
      ],
      "execution_count": 4,
      "outputs": [
        {
          "output_type": "execute_result",
          "data": {
            "text/html": [
              "<div>\n",
              "<style scoped>\n",
              "    .dataframe tbody tr th:only-of-type {\n",
              "        vertical-align: middle;\n",
              "    }\n",
              "\n",
              "    .dataframe tbody tr th {\n",
              "        vertical-align: top;\n",
              "    }\n",
              "\n",
              "    .dataframe thead th {\n",
              "        text-align: right;\n",
              "    }\n",
              "</style>\n",
              "<table border=\"1\" class=\"dataframe\">\n",
              "  <thead>\n",
              "    <tr style=\"text-align: right;\">\n",
              "      <th></th>\n",
              "      <th>index</th>\n",
              "      <th>dialogs</th>\n",
              "    </tr>\n",
              "  </thead>\n",
              "  <tbody>\n",
              "    <tr>\n",
              "      <th>0</th>\n",
              "      <td>0</td>\n",
              "      <td>Can we make this quick?  Roxanne Korrine and A...</td>\n",
              "    </tr>\n",
              "    <tr>\n",
              "      <th>1</th>\n",
              "      <td>1</td>\n",
              "      <td>Well, I thought we'd start with pronunciation,...</td>\n",
              "    </tr>\n",
              "    <tr>\n",
              "      <th>2</th>\n",
              "      <td>2</td>\n",
              "      <td>Not the hacking and gagging and spitting part....</td>\n",
              "    </tr>\n",
              "    <tr>\n",
              "      <th>3</th>\n",
              "      <td>3</td>\n",
              "      <td>Okay... then how 'bout we try out some French ...</td>\n",
              "    </tr>\n",
              "    <tr>\n",
              "      <th>4</th>\n",
              "      <td>4</td>\n",
              "      <td>You're asking me out.  That's so cute. What's ...</td>\n",
              "    </tr>\n",
              "    <tr>\n",
              "      <th>...</th>\n",
              "      <td>...</td>\n",
              "      <td>...</td>\n",
              "    </tr>\n",
              "    <tr>\n",
              "      <th>304441</th>\n",
              "      <td>304441</td>\n",
              "      <td>Lord Chelmsford seems to want me to stay back ...</td>\n",
              "    </tr>\n",
              "    <tr>\n",
              "      <th>304442</th>\n",
              "      <td>304442</td>\n",
              "      <td>I think Chelmsford wants a good man on the bor...</td>\n",
              "    </tr>\n",
              "    <tr>\n",
              "      <th>304443</th>\n",
              "      <td>304443</td>\n",
              "      <td>Well I assure you, Sir, I have no desire to cr...</td>\n",
              "    </tr>\n",
              "    <tr>\n",
              "      <th>304444</th>\n",
              "      <td>304444</td>\n",
              "      <td>And I assure you, you do not In fact I'd be ob...</td>\n",
              "    </tr>\n",
              "    <tr>\n",
              "      <th>304445</th>\n",
              "      <td>304445</td>\n",
              "      <td>So far only their scouts. But we have had repo...</td>\n",
              "    </tr>\n",
              "  </tbody>\n",
              "</table>\n",
              "<p>304446 rows × 2 columns</p>\n",
              "</div>"
            ],
            "text/plain": [
              "         index                                            dialogs\n",
              "0            0  Can we make this quick?  Roxanne Korrine and A...\n",
              "1            1  Well, I thought we'd start with pronunciation,...\n",
              "2            2  Not the hacking and gagging and spitting part....\n",
              "3            3  Okay... then how 'bout we try out some French ...\n",
              "4            4  You're asking me out.  That's so cute. What's ...\n",
              "...        ...                                                ...\n",
              "304441  304441  Lord Chelmsford seems to want me to stay back ...\n",
              "304442  304442  I think Chelmsford wants a good man on the bor...\n",
              "304443  304443  Well I assure you, Sir, I have no desire to cr...\n",
              "304444  304444  And I assure you, you do not In fact I'd be ob...\n",
              "304445  304445  So far only their scouts. But we have had repo...\n",
              "\n",
              "[304446 rows x 2 columns]"
            ]
          },
          "metadata": {
            "tags": []
          },
          "execution_count": 4
        }
      ]
    },
    {
      "cell_type": "markdown",
      "metadata": {
        "id": "rnx5Br4C9xIM"
      },
      "source": [
        "### 1. First, do some data preprocessing to clean up the data. You can use your solution to the assignment of the Text preprocessing checkpoint."
      ]
    },
    {
      "cell_type": "code",
      "metadata": {
        "id": "BeompR4h77cE"
      },
      "source": [
        "nlp = spacy.load('en',disable=['parser','ner'])\n",
        "nlp.add_pipe(nlp.create_pipe('sentencizer'))\n",
        "\n",
        "# below is necessary to avoid memory error of SpaCy\n",
        "nlp.max_length = 20000000\n",
        "\n",
        "# all the processing work is done here. \n",
        "dialogs_doc = nlp(\" \".join(dialogs_df.dialogs))"
      ],
      "execution_count": 5,
      "outputs": []
    },
    {
      "cell_type": "code",
      "metadata": {
        "id": "hlZbRG9z9gDL"
      },
      "source": [
        "dialogs_sents = [sent.text for sent in dialogs_doc.sents if len(sent.text) > 1] # Only include sentences with more than one word. "
      ],
      "execution_count": 6,
      "outputs": []
    },
    {
      "cell_type": "markdown",
      "metadata": {
        "id": "WCToN2fH9y-5"
      },
      "source": [
        "### 2. Develop a chatbot using this corpus. In doing this, you're free to choose a chatbot development library like ChatterBot or write your own code from scratch."
      ]
    },
    {
      "cell_type": "code",
      "metadata": {
        "id": "KQxV4t8e7Ysi"
      },
      "source": [
        "GREETING_INPUTS = ['hello','hi','greetings',\"what's up\", \"hey\"]\n",
        "GREETING_RESPONSES = ['hello','hi','hey','hi there']\n",
        "def greeting(sentence):\n",
        "  for word in sentence.split():\n",
        "    if word.lower() in GREETING_INPUTS:\n",
        "      return random.choice(GREETING_RESPONSES)"
      ],
      "execution_count": 7,
      "outputs": []
    },
    {
      "cell_type": "code",
      "metadata": {
        "colab": {
          "base_uri": "https://localhost:8080/"
        },
        "id": "Efl_9KsQ-YaL",
        "outputId": "811fb3e1-bb59-4733-d799-8dede791e766"
      },
      "source": [
        "# creating a chatbot with ChatterBot! \n",
        "chatbot = ChatBot('Dialogs')\n",
        "\n",
        "# this is to remove the accumulated knowledge base (by why?)\n",
        "chatbot.storage.drop()\n",
        "\n",
        "# create a new trainer for the chatbot\n",
        "trainer = ListTrainer(chatbot)\n",
        "\n",
        "#train the chatbot\n",
        "trainer.train(dialogs_sents)"
      ],
      "execution_count": 8,
      "outputs": [
        {
          "output_type": "stream",
          "text": [
            "List Trainer: [####################] 100%\n"
          ],
          "name": "stdout"
        }
      ]
    },
    {
      "cell_type": "markdown",
      "metadata": {
        "id": "wKc4cZDB_cEh"
      },
      "source": [
        "### 3. Start a conversation with your chatbot, and discuss its strengths and weaknesses."
      ]
    },
    {
      "cell_type": "code",
      "metadata": {
        "id": "imFzphFi_LRR"
      },
      "source": [
        "import random"
      ],
      "execution_count": 9,
      "outputs": []
    },
    {
      "cell_type": "code",
      "metadata": {
        "colab": {
          "base_uri": "https://localhost:8080/"
        },
        "id": "XDvXzvV2_nfJ",
        "outputId": "40f624f1-1344-43c5-d015-edd5b109d27d"
      },
      "source": [
        "print(\"Cornell: I will try to respond to you reasonably. If you want to exit, please type 'bye'.\")\n",
        "\n",
        "# below, the chatting takes place\n",
        "\n",
        "while True: \n",
        "  \n",
        "  user_input = input(\"User: \")\n",
        "  user_input = user_input.lower()\n",
        "\n",
        "  if(user_input!='bye'):\n",
        "    if(user_input == 'thanks' or user_input =='thank you'):\n",
        "      print(\"Cornell: You're welcome.\")\n",
        "      break\n",
        "    else:\n",
        "      if(greeting(user_input) != None):\n",
        "        print(\"Cornell: \" + greeting(user_input))\n",
        "      else:\n",
        "        print(\"Cornell: \", end = \"\")\n",
        "        print(chatbot.get_response(user_input))\n",
        "  else:\n",
        "    print(\"Cornell: Bye! It was a great chat.\")\n",
        "    break"
      ],
      "execution_count": 10,
      "outputs": [
        {
          "output_type": "stream",
          "text": [
            "Cornell: I will try to respond to you reasonably. If you want to exit, please type 'bye'.\n",
            "User: hey, what's up?\n",
            "Cornell: I just wanted -- What?\n",
            "User: Huh? Did something startle you?\n",
            "Cornell: You promised you'd always take care of me.\n",
            "User: No I didn't.\n",
            "Cornell: The sub-surface structure shows that it was deliberately buried about four million years ago.\n",
            "User: What was buried?\n",
            "Cornell: You never wanted to go out with 'me, did you?\n",
            "User: No\n",
            "Cornell: Again.\n",
            "User: Bye\n",
            "Cornell: Bye! It was a great chat.\n"
          ],
          "name": "stdout"
        }
      ]
    }
  ]
}